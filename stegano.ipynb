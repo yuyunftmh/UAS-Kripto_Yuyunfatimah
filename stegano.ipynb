{
  "nbformat": 4,
  "nbformat_minor": 0,
  "metadata": {
    "colab": {
      "provenance": [],
      "authorship_tag": "ABX9TyMU+iCHrkEcqJGqRwoIPgGr",
      "include_colab_link": true
    },
    "kernelspec": {
      "name": "python3",
      "display_name": "Python 3"
    },
    "language_info": {
      "name": "python"
    }
  },
  "cells": [
    {
      "cell_type": "markdown",
      "metadata": {
        "id": "view-in-github",
        "colab_type": "text"
      },
      "source": [
        "<a href=\"https://colab.research.google.com/github/yuyunftmh/UTS_Yuyunfatimah_smt5/blob/master/stegano.ipynb\" target=\"_parent\"><img src=\"https://colab.research.google.com/assets/colab-badge.svg\" alt=\"Open In Colab\"/></a>"
      ]
    },
    {
      "cell_type": "code",
      "source": [
        "import cv2\n",
        "import numpy as np\n",
        "\n",
        "def brightness(image):\n",
        "    # Menghitung nilai rata-rata kecerahan piksel\n",
        "    gray_image = cv2.cvtColor(image, cv2.COLOR_BGR2GRAY)\n",
        "    mean_brightness = np.mean(gray_image)\n",
        "    return mean_brightness\n",
        "\n",
        "def contrast(image):\n",
        "    # Menghitung nilai kontras citra\n",
        "    gray_image = cv2.cvtColor(image, cv2.COLOR_BGR2GRAY)\n",
        "    std_dev = np.std(gray_image)\n",
        "    return std_dev\n",
        "\n",
        "def main():\n",
        "    # Membaca citra\n",
        "    image_path = 'path/to/your/image.jpg'\n",
        "    image = cv2.imread(image_path)\n",
        "\n",
        "    if image is None:\n",
        "        print(\"Gagal membaca citra.\")\n",
        "        return\n",
        "\n",
        "    # Melakukan pengukuran\n",
        "    avg_brightness = brightness(image)\n",
        "    std_dev_contrast = contrast(image)\n",
        "\n",
        "    # Menampilkan hasil pengukuran\n",
        "    print(f\"Rata-rata Kecerahan: {avg_brightness}\")\n",
        "    print(f\"Kontras: {std_dev_contrast}\")\n",
        "\n",
        "if __name__ == \"__main__\":\n",
        "    main()\n"
      ],
      "metadata": {
        "id": "WwW2Do0OCIYs",
        "outputId": "b7db6f8b-6815-47fb-fae3-5d42de6195b5",
        "colab": {
          "base_uri": "https://localhost:8080/"
        }
      },
      "execution_count": null,
      "outputs": [
        {
          "output_type": "stream",
          "name": "stdout",
          "text": [
            "Gagal membaca citra.\n"
          ]
        }
      ]
    }
  ]
}
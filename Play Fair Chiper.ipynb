{
  "nbformat": 4,
  "nbformat_minor": 0,
  "metadata": {
    "colab": {
      "provenance": [],
      "authorship_tag": "ABX9TyOAK4FDbZqDV+9n8cGHP6ff",
      "include_colab_link": true
    },
    "kernelspec": {
      "name": "python3",
      "display_name": "Python 3"
    },
    "language_info": {
      "name": "python"
    }
  },
  "cells": [
    {
      "cell_type": "markdown",
      "metadata": {
        "id": "view-in-github",
        "colab_type": "text"
      },
      "source": [
        "<a href=\"https://colab.research.google.com/github/yuyunftmh/UTS_Yuyunfatimah_smt5/blob/master/Play%20Fair%20Chiper.ipynb\" target=\"_parent\"><img src=\"https://colab.research.google.com/assets/colab-badge.svg\" alt=\"Open In Colab\"/></a>"
      ]
    },
    {
      "cell_type": "code",
      "execution_count": null,
      "metadata": {
        "id": "u6A_-2RiMKnS"
      },
      "outputs": [],
      "source": [
        "def generate_key_matrix(key):\n",
        "    key = key.upper().replace(\"J\", \"I\")\n",
        "    alphabet = \"ABCDEFGHIKLMNOPQRSTUVWXYZ\"\n",
        "    key_set = set(key + alphabet)\n",
        "\n",
        "    key_matrix = []\n",
        "    for char in key_set:\n",
        "        if char not in key_matrix:\n",
        "            key_matrix.append(char)\n",
        "\n",
        "    key_matrix = [key_matrix[i:i + 5] for i in range(0, len(key_matrix), 5)]\n",
        "    return key_matrix\n",
        "\n",
        "def find_char_positions(matrix, char):\n",
        "    for i in range(5):\n",
        "        for j in range(5):\n",
        "            if matrix[i][j] == char:\n",
        "                return i, j\n",
        "\n",
        "def encrypt_playfair(text, key):\n",
        "    key_matrix = generate_key_matrix(key)\n",
        "    text = text.upper().replace(\"J\", \"I\")\n",
        "    text_pairs = [text[i:i + 2] for i in range(0, len(text), 2)]\n",
        "\n",
        "    encrypted_text = \"\"\n",
        "    for pair in text_pairs:\n",
        "        row1, col1 = find_char_positions(key_matrix, pair[0])\n",
        "        row2, col2 = find_char_positions(key_matrix, pair[1])\n",
        "\n",
        "        if row1 == row2:\n",
        "            encrypted_text += key_matrix[row1][(col1 + 1) % 5] + key_matrix[row2][(col2 + 1) % 5]\n",
        "        elif col1 == col2:\n",
        "            encrypted_text += key_matrix[(row1 + 1) % 5][col1] + key_matrix[(row2 + 1) % 5][col2]\n",
        "        else:\n",
        "            encrypted_text += key_matrix[row1][col2] + key_matrix[row2][col1]\n",
        "\n",
        "    return encrypted_text\n",
        "\n",
        "# Masukkan teks dan kunci\n",
        "teks = input(\"Yuyun Fatimah: \")\n",
        "kunci = input(\"Teknik Informatika: \")\n",
        "\n",
        "hasil_cipher = encrypt_playfair(teks, kunci)\n",
        "print(\"Hasil Cipher:\", hasil_cipher)\n"
      ]
    }
  ]
}
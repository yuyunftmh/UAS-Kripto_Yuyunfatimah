{
  "nbformat": 4,
  "nbformat_minor": 0,
  "metadata": {
    "colab": {
      "provenance": [],
      "authorship_tag": "ABX9TyMyPBc5KFlWxg4BBKzd9GFv",
      "include_colab_link": true
    },
    "kernelspec": {
      "name": "python3",
      "display_name": "Python 3"
    },
    "language_info": {
      "name": "python"
    }
  },
  "cells": [
    {
      "cell_type": "markdown",
      "metadata": {
        "id": "view-in-github",
        "colab_type": "text"
      },
      "source": [
        "<a href=\"https://colab.research.google.com/github/yuyunftmh/UTS_Yuyunfatimah_smt5/blob/master/affine_otp.ipynb\" target=\"_parent\"><img src=\"https://colab.research.google.com/assets/colab-badge.svg\" alt=\"Open In Colab\"/></a>"
      ]
    },
    {
      "cell_type": "code",
      "execution_count": null,
      "metadata": {
        "colab": {
          "base_uri": "https://localhost:8080/"
        },
        "id": "QpZQT-hu_ohx",
        "outputId": "ba476bc6-6cf0-4f0a-de0e-2e30a293187a"
      },
      "outputs": [
        {
          "output_type": "stream",
          "name": "stdout",
          "text": [
            "Encrypted Text: KDXZL\n",
            "Decrypted Text: HELLO\n"
          ]
        }
      ],
      "source": [
        "import random\n",
        "\n",
        "def gcd(a, b):\n",
        "    while b:\n",
        "        a, b = b, a % b\n",
        "    return a\n",
        "\n",
        "def mod_inverse(a, m):\n",
        "    for i in range(26):\n",
        "        if (a * i) % m == 1:\n",
        "            return i\n",
        "    return None\n",
        "\n",
        "def generate_one_time_pad(length):\n",
        "    return [random.randint(0, 25) for _ in range(length)]\n",
        "\n",
        "def encrypt(plain_text, otp):\n",
        "    encrypted_text = \"\"\n",
        "    for char, key in zip(plain_text, otp):\n",
        "        if char.isalpha():\n",
        "            if char.isupper():\n",
        "                encrypted_text += chr((ord(char) - ord('A') + key) % 26 + ord('A'))\n",
        "            else:\n",
        "                encrypted_text += chr((ord(char) - ord('a') + key) % 26 + ord('a'))\n",
        "        else:\n",
        "            encrypted_text += char\n",
        "    return encrypted_text\n",
        "\n",
        "def decrypt(encrypted_text, otp):\n",
        "    decrypted_text = \"\"\n",
        "    for char, key in zip(encrypted_text, otp):\n",
        "        if char.isalpha():\n",
        "            if char.isupper():\n",
        "                decrypted_text += chr((ord(char) - ord('A') - key) % 26 + ord('A'))\n",
        "            else:\n",
        "                decrypted_text += chr((ord(char) - ord('a') - key) % 26 + ord('a'))\n",
        "        else:\n",
        "            decrypted_text += char\n",
        "    return decrypted_text\n",
        "\n",
        "# Contoh penggunaan\n",
        "plain_text = \"HELLO\"\n",
        "otp_length = len(plain_text)\n",
        "otp = generate_one_time_pad(otp_length)\n",
        "\n",
        "encrypted_text = encrypt(plain_text, otp)\n",
        "print(\"Encrypted Text:\", encrypted_text)\n",
        "\n",
        "decrypted_text = decrypt(encrypted_text, otp)\n",
        "print(\"Decrypted Text:\", decrypted_text)\n"
      ]
    }
  ]
}
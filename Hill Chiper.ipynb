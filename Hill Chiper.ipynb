{
  "nbformat": 4,
  "nbformat_minor": 0,
  "metadata": {
    "colab": {
      "provenance": [],
      "authorship_tag": "ABX9TyMbg+PO09F4/KwJl/T/Lfx4",
      "include_colab_link": true
    },
    "kernelspec": {
      "name": "python3",
      "display_name": "Python 3"
    },
    "language_info": {
      "name": "python"
    }
  },
  "cells": [
    {
      "cell_type": "markdown",
      "metadata": {
        "id": "view-in-github",
        "colab_type": "text"
      },
      "source": [
        "<a href=\"https://colab.research.google.com/github/yuyunftmh/UTS_Yuyunfatimah_smt5/blob/master/Hill%20Chiper.ipynb\" target=\"_parent\"><img src=\"https://colab.research.google.com/assets/colab-badge.svg\" alt=\"Open In Colab\"/></a>"
      ]
    },
    {
      "cell_type": "code",
      "execution_count": null,
      "metadata": {
        "id": "pv9fS60nKRC0"
      },
      "outputs": [],
      "source": [
        "import numpy as np\n",
        "\n",
        "def matrix_to_text(matrix):\n",
        "    return ''.join([''.join(row) for row in matrix])\n",
        "\n",
        "def text_to_matrix(text, n):\n",
        "    matrix = []\n",
        "    for i in range(0, len(text), n):\n",
        "        matrix.append(list(text[i:i+n]))\n",
        "    return matrix\n",
        "\n",
        "def hill_cipher(text, key):\n",
        "    text = text.replace(\" \", \"\").upper()\n",
        "    n = len(key)\n",
        "    key_matrix = np.array(text_to_matrix(key, n)) % 65\n",
        "\n",
        "    while len(text) % n != 0:\n",
        "        text += 'X'\n",
        "\n",
        "    text_matrix = np.array(text_to_matrix(text, n)) % 65\n",
        "    encrypted_matrix = np.dot(text_matrix, key_matrix) % 26\n",
        "    encrypted_text = matrix_to_text(encrypted_matrix)\n",
        "\n",
        "    return encrypted_text\n",
        "\n",
        "# Masukkan teks dan matriks kunci (3x3)\n",
        "teks = input(\"Masukkan teks: \")\n",
        "kunci = input(\"Masukkan matriks kunci (baris dipisahkan spasi): \")\n",
        "\n",
        "try:\n",
        "    kunci_matrix = np.array([list(map(int, row.split())) for row in kunci.split()])\n",
        "    if kunci_matrix.shape[0] == kunci_matrix.shape[1]:\n",
        "        hasil_cipher = hill_cipher(teks, kunci_matrix)\n",
        "        print(\"Hasil Cipher:\", hasil_cipher)\n",
        "    else:\n",
        "        print(\"Matriks kunci harus berbentuk persegi.\")\n",
        "except ValueError:\n",
        "    print(\"Input matriks kunci tidak valid.\")\n"
      ]
    }
  ]
}
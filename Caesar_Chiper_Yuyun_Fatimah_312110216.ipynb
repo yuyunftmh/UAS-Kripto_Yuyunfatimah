{
  "nbformat": 4,
  "nbformat_minor": 0,
  "metadata": {
    "colab": {
      "provenance": [],
      "authorship_tag": "ABX9TyNnYXF/m0B0kKlSL/1nC2Xv",
      "include_colab_link": true
    },
    "kernelspec": {
      "name": "python3",
      "display_name": "Python 3"
    },
    "language_info": {
      "name": "python"
    }
  },
  "cells": [
    {
      "cell_type": "markdown",
      "metadata": {
        "id": "view-in-github",
        "colab_type": "text"
      },
      "source": [
        "<a href=\"https://colab.research.google.com/github/yuyunftmh/UTS_Yuyunfatimah_smt5/blob/master/Caesar_Chiper_Yuyun_Fatimah_312110216.ipynb\" target=\"_parent\"><img src=\"https://colab.research.google.com/assets/colab-badge.svg\" alt=\"Open In Colab\"/></a>"
      ]
    },
    {
      "cell_type": "code",
      "execution_count": null,
      "metadata": {
        "id": "IbY2QzVZ-YUH"
      },
      "outputs": [],
      "source": [
        "def caesar_cipher(text, shift):\n",
        "    result = \"\"\n",
        "\n",
        "    for char in text:\n",
        "        if char.isalpha():\n",
        "            # Tentukan apakah huruf itu besar atau kecil\n",
        "            is_upper = char.isupper()\n",
        "            # Ubah huruf ke dalam indeks 0-25\n",
        "            char_index = ord(char.lower()) - ord('a')\n",
        "            # Geser huruf\n",
        "            char_index = (char_index + shift) % 26\n",
        "            # Konversi kembali ke huruf asli\n",
        "            char = chr(char_index + ord('a'))\n",
        "            # Jika huruf asli adalah huruf besar, ubah kembali ke huruf besar\n",
        "            if is_upper:\n",
        "                char = char.upper()\n",
        "        result += char\n",
        "\n",
        "    return result\n",
        "\n",
        "# Input teks yang akan dienkripsi\n",
        "plaintext = input(\"Masukkan teks yang akan dienkripsi: \")\n",
        "# Input jumlah pergeseran\n",
        "shift = int(input(\"Masukkan jumlah pergeseran (bilangan bulat positif): \"))\n",
        "\n",
        "# Enkripsi teks\n",
        "encrypted_text = caesar_cipher(plaintext, shift)\n",
        "print(\"Teks terenkripsi: \" + encrypted_text)\n",
        "\n",
        "# Dekripsi teks (opsional)\n",
        "# decrypted_text = caesar_cipher(encrypted_text, -shift)\n",
        "# print(\"Teks terdekripsi: \" + decrypted_text)"
      ]
    }
  ]
}
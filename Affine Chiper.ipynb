{
  "nbformat": 4,
  "nbformat_minor": 0,
  "metadata": {
    "colab": {
      "provenance": [],
      "authorship_tag": "ABX9TyOBtZ6ApscjtMQzDmkn+4lz",
      "include_colab_link": true
    },
    "kernelspec": {
      "name": "python3",
      "display_name": "Python 3"
    },
    "language_info": {
      "name": "python"
    }
  },
  "cells": [
    {
      "cell_type": "markdown",
      "metadata": {
        "id": "view-in-github",
        "colab_type": "text"
      },
      "source": [
        "<a href=\"https://colab.research.google.com/github/yuyunftmh/UTS_Yuyunfatimah_smt5/blob/master/Affine%20Chiper.ipynb\" target=\"_parent\"><img src=\"https://colab.research.google.com/assets/colab-badge.svg\" alt=\"Open In Colab\"/></a>"
      ]
    },
    {
      "cell_type": "code",
      "execution_count": null,
      "metadata": {
        "id": "vqZ5YFouNK75"
      },
      "outputs": [],
      "source": [
        "def mod_inverse(a, m):\n",
        "    m0, x0, x1 = m, 0, 1\n",
        "\n",
        "    while a > 1:\n",
        "        q = a // m\n",
        "        m, a = a % m, m\n",
        "        x0, x1 = x1 - q * x0, x0\n",
        "\n",
        "    return x1 + m0 if x1 < 0 else x1\n",
        "\n",
        "def affine_cipher(text, a, b):\n",
        "    result = \"\"\n",
        "    for char in text:\n",
        "        if char.isalpha():\n",
        "            if char.isupper():\n",
        "                result += chr(((ord(char) - 65) * a + b) % 26 + 65)\n",
        "            else:\n",
        "                result += chr(((ord(char) - 97) * a + b) % 26 + 97)\n",
        "        else:\n",
        "            result += char\n",
        "    return result\n",
        "\n",
        "def affine_decipher(ciphertext, a, b):\n",
        "    a_inv = mod_inverse(a, 26)\n",
        "    result = \"\"\n",
        "    for char in ciphertext:\n",
        "        if char.isalpha():\n",
        "            if char.isupper():\n",
        "                result += chr((a_inv * (ord(char) - 65 - b)) % 26 + 65)\n",
        "            else:\n",
        "                result += chr((a_inv * (ord(char) - 97 - b)) % 26 + 97)\n",
        "        else:\n",
        "            result += char\n",
        "    return result\n",
        "\n",
        "# Masukkan teks, nilai a, dan nilai b\n",
        "teks = input(\"FreePalestine: \")\n",
        "a = int(input(\"Masukkan nilai a (coprime with 26): \"))\n",
        "b = int(input(\"Masukkan nilai b: \"))\n",
        "\n",
        "# Periksa apakah a dan 26 relatif prima (coprime)\n",
        "if a % 2 == 0 or a % 13 == 0:\n",
        "    print(\"Nilai a harus relatif prima dengan 26.\")\n",
        "else:\n",
        "    hasil_cipher = affine_cipher(teks, a, b)\n",
        "    print(\"Hasil Cipher:\", hasil_cipher)\n",
        "\n",
        "    hasil_decipher = affine_decipher(hasil_cipher, a, b)\n",
        "    print(\"Hasil Decipher:\", hasil_decipher)\n"
      ]
    }
  ]
}
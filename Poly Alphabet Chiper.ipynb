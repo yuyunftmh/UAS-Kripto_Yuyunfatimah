{
  "nbformat": 4,
  "nbformat_minor": 0,
  "metadata": {
    "colab": {
      "provenance": [],
      "authorship_tag": "ABX9TyMWazfY/Kj9n7VpSdFSXzUw",
      "include_colab_link": true
    },
    "kernelspec": {
      "name": "python3",
      "display_name": "Python 3"
    },
    "language_info": {
      "name": "python"
    }
  },
  "cells": [
    {
      "cell_type": "markdown",
      "metadata": {
        "id": "view-in-github",
        "colab_type": "text"
      },
      "source": [
        "<a href=\"https://colab.research.google.com/github/yuyunftmh/UTS_Yuyunfatimah_smt5/blob/master/Poly%20Alphabet%20Chiper.ipynb\" target=\"_parent\"><img src=\"https://colab.research.google.com/assets/colab-badge.svg\" alt=\"Open In Colab\"/></a>"
      ]
    },
    {
      "cell_type": "code",
      "execution_count": null,
      "metadata": {
        "id": "Ehuy6RqCJAT2"
      },
      "outputs": [],
      "source": [
        "def polyalphabetic_cipher(text, key):\n",
        "    result = \"\"\n",
        "    key_length = len(key)\n",
        "\n",
        "    for i in range(len(text)):\n",
        "        char = text[i]\n",
        "        if char.isalpha():\n",
        "            key_char = key[i % key_length]\n",
        "            shift = ord(key_char.upper()) - 65\n",
        "\n",
        "            if char.isupper():\n",
        "                result += chr((ord(char) + shift - 65) % 26 + 65)\n",
        "            elif char.islower():\n",
        "                result += chr((ord(char) + shift - 97) % 26 + 97)\n",
        "        else:\n",
        "            result += char\n",
        "\n",
        "    return result\n",
        "\n",
        "# Masukkan teks dan kunci\n",
        "teks = input(\"Masukkan teks: \")\n",
        "kunci = input(\"Masukkan kunci: \")\n",
        "\n",
        "hasil_cipher = polyalphabetic_cipher(teks, kunci)\n",
        "print(\"Hasil Cipher:\", hasil_cipher)\n"
      ]
    }
  ]
}